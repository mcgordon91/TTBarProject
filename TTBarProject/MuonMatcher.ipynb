{
 "cells": [
  {
   "cell_type": "code",
   "execution_count": 1,
   "id": "unauthorized-officer",
   "metadata": {},
   "outputs": [
    {
     "name": "stderr",
     "output_type": "stream",
     "text": [
      "input_line_41:19:1: error: namespaces can only be defined in global or namespace scope\n",
      "{\n",
      "^\n"
     ]
    }
   ],
   "source": [
    "#ifndef MUON_MATCHER\n",
    "#define MUON_MATCHER\n",
    "\n",
    "#include <iostream>\n",
    "#include <string>\n",
    "#include <vector>\n",
    "\n",
    "typedef ROOT::VecOps::RVec<Float_t>                        RVec_f;\n",
    "typedef ROOT::VecOps::RVec<Float_t>::const_iterator        RVec_f_iter;\n",
    "typedef ROOT::VecOps::RVec<Int_t>                          RVec_i;\n",
    "typedef ROOT::VecOps::RVec<Int_t>::const_iterator          RVec_i_iter;\n",
    "typedef ROOT::VecOps::RVec<std::string>                    RVec_str;\n",
    "typedef ROOT::VecOps::RVec<std::string>::const_iterator    RVec_str_iter;\n",
    "\n",
    "using namespace std;\n",
    "\n",
    "namespace MuonMatcher\n",
    "{\n",
    "/* This class will take in events and search for oppositely charged muons */\n",
    "class MatchOppositelyChargedMuons\n",
    "{\n",
    "    private:\n",
    "        /* Array of arrays, which stores the pt, eta, phi, and mass for each muon. */\n",
    "        RVec_f Muon_pt;\n",
    "        RVec_f Muon_eta;\n",
    "        RVec_f Muon_phi;\n",
    "        RVec_f Muon_mass;\n",
    "        RVec_i Muon_charge;\n",
    "        \n",
    "    \n",
    "    public:\n",
    "        MatchOppositelyChargedMuons(RVec_f Muon_pt, RVec_f Muon_eta, RVec_f Muon_phi, RVec_f Muon_mass, RVec_i Muon_charge, Muon_J_Psi_candidate_mask);\n",
    "        int Test();\n",
    "        int* MuonMatcher();\n",
    "        float* InvariantMassCalculator();\n",
    "};\n",
    "\n",
    "/* Constructor */\n",
    "MatchOppositelyChargedMuons::MatchOppositelyChargedMuons(float** specifications)\n",
    "{\n",
    "    this->specifications = specifications;\n",
    "}\n",
    "\n",
    "int MatchOppositelyChargedMuons::Test()\n",
    "{\n",
    "    return 0;\n",
    "}\n",
    "\n",
    "/* This function matches each muon with oppositely charged muons. */\n",
    "MatchOppositelyChargedMuons::MuonMatcher()\n",
    "{ \n",
    "    /* Loop over the set of muons to determine which muons are oppositely charged to each one. */\n",
    "    for()\n",
    "    {\n",
    "        for()\n",
    "    }\n",
    "}\n",
    "\n",
    "/* This function obtains the invariant mass of each muon. */\n",
    "MatchOppositelyChargedMuons::InvariantMassCalculator()\n",
    "{\n",
    "    /* Stores invariant matches */\n",
    "    std::vector <float> InvariantMasses(0);\n",
    "    \n",
    "    InvariantMasses.push_back(ROOT::VecOps::InvariantMass());\n",
    "}\n",
    "}\n",
    "\n",
    "#endif"
   ]
  },
  {
   "cell_type": "code",
   "execution_count": null,
   "id": "associate-resistance",
   "metadata": {},
   "outputs": [],
   "source": []
  },
  {
   "cell_type": "code",
   "execution_count": null,
   "id": "white-mumbai",
   "metadata": {},
   "outputs": [],
   "source": []
  }
 ],
 "metadata": {
  "kernelspec": {
   "display_name": "ROOT C++",
   "language": "c++",
   "name": "root"
  },
  "language_info": {
   "codemirror_mode": "text/x-c++src",
   "file_extension": ".C",
   "mimetype": " text/x-c++src",
   "name": "c++"
  }
 },
 "nbformat": 4,
 "nbformat_minor": 5
}
